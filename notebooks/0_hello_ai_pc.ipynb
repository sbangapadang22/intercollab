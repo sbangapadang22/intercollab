{
 "cells": [
  {
   "cell_type": "markdown",
   "id": "e67f099b-55e3-4a9a-ac29-5243e8ed6e27",
   "metadata": {},
   "source": [
    "# Hello AI PC \n",
    "\n",
    "This is a simple Jupyter Notebook to check device configuration"
   ]
  },
  {
   "cell_type": "markdown",
   "id": "8473e975-776e-4cf4-b5da-2fb609ac0967",
   "metadata": {},
   "source": [
    "## Imports\n",
    "\n",
    "We'll use the following imports in our example. `torch` and `torch_nn` are used for building and running ML models. We'll use them to define a small neural network and to generate the model weights. `os` is used for interacting with the operating system and is used to manage our environment variables, file paths, and directories. `subprocess` allows us to retrieve the hardware information. `onnx` and `onnxruntime` are used to work with our model in the ONNX format and for running our inference. `vai_q_onnx` is part of the Vitis AI Quantizer for ONNX models. We use it to perform quantization, converting the model into an INT8 format that is optimized for the NPU."
   ]
  },
  {
   "cell_type": "code",
   "execution_count": 5,
   "id": "b31d99ae-63d6-41e3-97a6-c7f61b6165ea",
   "metadata": {},
   "outputs": [],
   "source": [
    "import torch\n",
    "import torch.nn as nn\n",
    "import os\n",
    "import subprocess\n",
    "import onnxruntime\n",
    "import numpy as np\n",
    "import onnx\n",
    "import shutil\n",
    "from timeit import default_timer as timer"
   ]
  },
  {
   "cell_type": "code",
   "execution_count": 6,
   "id": "ed7389a9-a4a0-4b75-bc81-b59532e521a2",
   "metadata": {},
   "outputs": [
    {
     "name": "stdout",
     "output_type": "stream",
     "text": [
      "Collecting py-cpuinfo\n",
      "  Downloading py_cpuinfo-9.0.0-py3-none-any.whl.metadata (794 bytes)\n",
      "Downloading py_cpuinfo-9.0.0-py3-none-any.whl (22 kB)\n",
      "Installing collected packages: py-cpuinfo\n",
      "Successfully installed py-cpuinfo-9.0.0\n"
     ]
    }
   ],
   "source": [
    "!pip install py-cpuinfo"
   ]
  },
  {
   "cell_type": "markdown",
   "id": "022895bd-0833-4756-a546-2d03b5b97c6f",
   "metadata": {},
   "source": [
    "## Device Configuration\n",
    "Version 1.3 of the Ryzen AI Software supports AMD processors codenamed Phoenix, Hawk Point, Strix, Strix Halo and Krackan Point. These processors can be found in the following Ryzen series:   \n",
    "Ryzen 200 Series   \n",
    "Ryzen 7000 Series, Ryzen PRO 7000 Series   \n",
    "Ryzen 8000 Series, Ryzen PRO 8000 Series   \n",
    "Ryzen AI 300 Series, Ryzen AI PRO Series, Ryzen AI Max 300 Series   \n",
    "   \n",
    "For a complete list of supported devices, refer to the processor specifications page (look for the “AMD Ryzen AI” column towards the right side of the table, and select   “Available” from the pull-down menu).   \n",
    "   \n",
    "The rest of this document will refer to Phoenix as PHX, Hawk Point as HPT, Strix and Strix Halo as STX, and Krackan Point as KRK.   "
   ]
  },
  {
   "cell_type": "code",
   "execution_count": 7,
   "id": "0c1cc0b8-1111-41ef-a5bd-c2aebb32be16",
   "metadata": {},
   "outputs": [
    {
     "name": "stdout",
     "output_type": "stream",
     "text": [
      "Python version: 3.10.16 | packaged by conda-forge | (main, Dec  5 2024, 14:07:43) [MSC v.1942 64 bit (AMD64)]\n",
      "Platform: Windows-10-10.0.26100-SP0\n",
      "Processor Architecture: ('64bit', 'WindowsPE')\n",
      "Machine: AMD64\n",
      "System: Windows\n",
      "Processor: AMD Ryzen AI 9 HX 370 w/ Radeon 890M\n"
     ]
    }
   ],
   "source": [
    "import platform\n",
    "import sys\n",
    "import cpuinfo\n",
    "from pprint import pprint\n",
    "\n",
    "print(\"Python version:\", sys.version)\n",
    "print(\"Platform:\", platform.platform())\n",
    "print(\"Processor Architecture:\", platform.architecture())\n",
    "print(\"Machine:\", platform.machine())\n",
    "print(\"System:\", platform.system())\n",
    "cpu_info = cpuinfo.get_cpu_info()\n",
    "print(\"Processor:\", cpu_info[\"brand_raw\"])"
   ]
  },
  {
   "cell_type": "markdown",
   "id": "2e725cc5-a202-4a5d-b51d-b99d418eda5f",
   "metadata": {},
   "source": [
    "## Check APU (NPU) type \n",
    "Useful to configure environment variables for hardware-specific optimization."
   ]
  },
  {
   "cell_type": "code",
   "execution_count": 8,
   "id": "c1408cd4-dbfc-4345-b382-7dce855d5775",
   "metadata": {},
   "outputs": [
    {
     "name": "stdout",
     "output_type": "stream",
     "text": [
      "APU Type: STX\n"
     ]
    }
   ],
   "source": [
    "def get_apu_info():\n",
    "    # Run pnputil as a subprocess to enumerate PCI devices\n",
    "    command = r'pnputil /enum-devices /bus PCI /deviceids '\n",
    "    process = subprocess.Popen(command, shell=True, stdout=subprocess.PIPE, stderr=subprocess.PIPE)\n",
    "    stdout, stderr = process.communicate()\n",
    "    # Check for supported Hardware IDs\n",
    "    apu_type = ''\n",
    "    if 'PCI\\\\VEN_1022&DEV_1502&REV_00' in stdout.decode(): apu_type = 'PHX/HPT'\n",
    "    if 'PCI\\\\VEN_1022&DEV_17F0&REV_00' in stdout.decode(): apu_type = 'STX'\n",
    "    if 'PCI\\\\VEN_1022&DEV_17F0&REV_10' in stdout.decode(): apu_type = 'STX'\n",
    "    if 'PCI\\\\VEN_1022&DEV_17F0&REV_11' in stdout.decode(): apu_type = 'STX'\n",
    "    return apu_type\n",
    "\n",
    "apu_type = get_apu_info()\n",
    "print(f\"APU Type: {apu_type}\")"
   ]
  },
  {
   "cell_type": "markdown",
   "id": "bd245b24-83a7-49bb-821f-571b02ed84a2",
   "metadata": {},
   "source": [
    "## Check Environment Variables"
   ]
  },
  {
   "cell_type": "code",
   "execution_count": 3,
   "id": "0cdb8efa-8805-4127-a4e5-69ac74b8cb52",
   "metadata": {},
   "outputs": [
    {
     "name": "stdout",
     "output_type": "stream",
     "text": [
      "Setting environment for STX\n",
      "XLNX_VART_FIRMWARE= C:\\Program Files\\RyzenAI\\1.3.1\\voe-4.0-win_amd64\\xclbins\\strix\\AMD_AIE2P_Nx4_Overlay.xclbin\n",
      "NUM_OF_DPU_RUNNERS= 1\n",
      "XLNX_TARGET_NAME= AMD_AIE2_Nx4_Overlay\n"
     ]
    }
   ],
   "source": [
    "# XLNX_VART_FIRMWARE - Specifies the firmware file used by the NPU for runtime execution\n",
    "# NUM_OF_DPU_RUNNERS - Specifies the number of DPU runners (processing cores) available for execution\n",
    "# XLNX_TARGET_NAME - Name of the target hardware configuration\n",
    "\n",
    "def set_environment_variable(apu_type):\n",
    "\n",
    "    install_dir = os.environ['RYZEN_AI_INSTALLATION_PATH']\n",
    "    match apu_type:\n",
    "        case 'PHX/HPT':\n",
    "            print(\"Setting environment for PHX/HPT\")\n",
    "            os.environ['XLNX_VART_FIRMWARE']= os.path.join(install_dir, 'voe-4.0-win_amd64', 'xclbins', 'phoenix', '1x4.xclbin')\n",
    "            os.environ['NUM_OF_DPU_RUNNERS']='1'\n",
    "            os.environ['XLNX_TARGET_NAME']='AMD_AIE2_Nx4_Overlay'\n",
    "        case 'STX':\n",
    "            print(\"Setting environment for STX\")\n",
    "            os.environ['XLNX_VART_FIRMWARE']= os.path.join(install_dir, 'voe-4.0-win_amd64', 'xclbins', 'strix', 'AMD_AIE2P_Nx4_Overlay.xclbin')\n",
    "            os.environ['NUM_OF_DPU_RUNNERS']='1'\n",
    "            os.environ['XLNX_TARGET_NAME']='AMD_AIE2_Nx4_Overlay'\n",
    "        case _:\n",
    "            print(\"Unrecognized APU type. Exiting.\")\n",
    "            exit()\n",
    "    print('XLNX_VART_FIRMWARE=', os.environ['XLNX_VART_FIRMWARE'])\n",
    "    print('NUM_OF_DPU_RUNNERS=', os.environ['NUM_OF_DPU_RUNNERS'])\n",
    "    print('XLNX_TARGET_NAME=', os.environ['XLNX_TARGET_NAME'])\n",
    "\n",
    "set_environment_variable(apu_type)"
   ]
  }
 ],
 "metadata": {
  "kernelspec": {
   "display_name": "Python 3 (ipykernel)",
   "language": "python",
   "name": "python3"
  },
  "language_info": {
   "codemirror_mode": {
    "name": "ipython",
    "version": 3
   },
   "file_extension": ".py",
   "mimetype": "text/x-python",
   "name": "python",
   "nbconvert_exporter": "python",
   "pygments_lexer": "ipython3",
   "version": "3.10.16"
  }
 },
 "nbformat": 4,
 "nbformat_minor": 5
}
